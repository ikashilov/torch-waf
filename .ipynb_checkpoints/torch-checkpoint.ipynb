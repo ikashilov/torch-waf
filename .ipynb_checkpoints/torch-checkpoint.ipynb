{
 "cells": [
  {
   "cell_type": "markdown",
   "metadata": {},
   "source": [
    "## Positive WAF — `PyTorch` implementation"
   ]
  },
  {
   "cell_type": "markdown",
   "metadata": {},
   "source": [
    "Let's imagine hypothetically the website with the following REST API:\n",
    "* `GET/website/itmes/?id={ID}`\n",
    "* `POST/website/script.js/?time={TIME}`\n",
    "* `GET/api/?token={TOKEN}`\n",
    "\n",
    "Where \n",
    "* `ID` is number from 0 to 1000\n",
    "* `TIME` is a Unix timestamp from 13/09/2020 to 03/03/2021\n",
    "* `TOKEN` is a lowercase hex string\n",
    "\n",
    "The task is to build the model which can \"learn\" the structure of the aforecited requests and alert when the inupt request is not correspond to such structure or even conatins threats"
   ]
  },
  {
   "cell_type": "markdown",
   "metadata": {},
   "source": [
    "### 1. Generate synthetic data"
   ]
  },
  {
   "cell_type": "code",
   "execution_count": 1,
   "metadata": {},
   "outputs": [],
   "source": [
    "import uuid\n",
    "import math\n",
    "import string\n",
    "import numpy as np\n",
    "import matplotlib.pyplot as plt\n",
    "\n",
    "import torch\n",
    "import torch.nn as nn\n",
    "import torch.nn.functional as F\n",
    "\n",
    "np.random.seed(0)\n",
    "_ = torch.manual_seed(0)"
   ]
  },
  {
   "cell_type": "code",
   "execution_count": 2,
   "metadata": {},
   "outputs": [],
   "source": [
    "def _gen_get():\n",
    "    return f'GET/website/itmes/?id={np.random.randint(1000, size=1)[0]}'\n",
    "            \n",
    "def _gen_post():\n",
    "    return f'POST/website/script.js/?time={np.random.randint(1600000000, 1620000000, size=1)[0]}'\n",
    "\n",
    "def _gen_api():\n",
    "     return f'GET/api/?token={uuid.uuid4().hex}'\n",
    "    \n",
    "    \n",
    "def get_synthetic_data(n_samples: int):\n",
    "    data=[]\n",
    "    for i in range(n_samples):\n",
    "        t = i%3\n",
    "        if t==0:\n",
    "            data.append(_gen_get())\n",
    "        elif t==1:\n",
    "            data.append(_gen_api())\n",
    "        else:\n",
    "            data.append(_gen_post())\n",
    "    return data"
   ]
  },
  {
   "cell_type": "markdown",
   "metadata": {},
   "source": [
    "We will use `N` sample in total with the equal probabilty of each API call"
   ]
  },
  {
   "cell_type": "code",
   "execution_count": 3,
   "metadata": {},
   "outputs": [],
   "source": [
    "N = 10000"
   ]
  },
  {
   "cell_type": "code",
   "execution_count": 4,
   "metadata": {},
   "outputs": [],
   "source": [
    "data = get_synthetic_data(N)"
   ]
  },
  {
   "cell_type": "code",
   "execution_count": 5,
   "metadata": {},
   "outputs": [
    {
     "data": {
      "text/plain": [
       "['GET/website/itmes/?id=684',\n",
       " 'GET/api/?token=b49aa428b9074e88a5134a44c7a59335',\n",
       " 'POST/website/script.js/?time=1618261621',\n",
       " 'GET/website/itmes/?id=192',\n",
       " 'GET/api/?token=591fd661df0a4934bea360a3e2ce5c12',\n",
       " 'POST/website/script.js/?time=1605157699',\n",
       " 'GET/website/itmes/?id=763',\n",
       " 'GET/api/?token=d346c6c52f2349aabe2e7c016467684f',\n",
       " 'POST/website/script.js/?time=1615039847',\n",
       " 'GET/website/itmes/?id=9']"
      ]
     },
     "execution_count": 5,
     "metadata": {},
     "output_type": "execute_result"
    }
   ],
   "source": [
    "data[:10]"
   ]
  },
  {
   "cell_type": "markdown",
   "metadata": {},
   "source": [
    "### 2. Data preprocessing "
   ]
  },
  {
   "cell_type": "markdown",
   "metadata": {},
   "source": [
    "#### 2.1 Build vocabulary"
   ]
  },
  {
   "cell_type": "code",
   "execution_count": 6,
   "metadata": {},
   "outputs": [],
   "source": [
    "unique_tokens = np.unique(list(map(list, ''.join(data))))"
   ]
  },
  {
   "cell_type": "code",
   "execution_count": 7,
   "metadata": {},
   "outputs": [
    {
     "data": {
      "text/plain": [
       "array(['.', '/', '0', '1', '2', '3', '4', '5', '6', '7', '8', '9', '=',\n",
       "       '?', 'E', 'G', 'O', 'P', 'S', 'T', 'a', 'b', 'c', 'd', 'e', 'f',\n",
       "       'i', 'j', 'k', 'm', 'n', 'o', 'p', 'r', 's', 't', 'w'], dtype='<U1')"
      ]
     },
     "execution_count": 7,
     "metadata": {},
     "output_type": "execute_result"
    }
   ],
   "source": [
    "unique_tokens"
   ]
  },
  {
   "cell_type": "code",
   "execution_count": 8,
   "metadata": {},
   "outputs": [],
   "source": [
    "start_token = '<sos>'\n",
    "end_token = '<eos>'\n",
    "pad_token = '<pad>'\n",
    "unk_token = '<unk>'\n",
    "\n",
    "def build_vocab(unique_tokens):\n",
    "    d={}\n",
    "    d[start_token] = 0\n",
    "    d[end_token] = 1\n",
    "    d[pad_token] = 2\n",
    "    d[unk_token] = 3\n",
    "    \n",
    "    for i, c in enumerate(unique_tokens):\n",
    "        d.update({c: i+4})\n",
    "        \n",
    "    return d"
   ]
  },
  {
   "cell_type": "code",
   "execution_count": 9,
   "metadata": {},
   "outputs": [],
   "source": [
    "vocab = build_vocab(unique_tokens)\n",
    "inv_vocab = {value:key for key, value in vocab.items()}"
   ]
  },
  {
   "cell_type": "markdown",
   "metadata": {},
   "source": [
    "#### 2.2 Tokenize data"
   ]
  },
  {
   "cell_type": "code",
   "execution_count": 10,
   "metadata": {},
   "outputs": [],
   "source": [
    "start_token = inv_vocab[0]\n",
    "end_token = inv_vocab[1]\n",
    "pad_token = inv_vocab[2]\n",
    "unk_token = inv_vocab[3]\n",
    "\n",
    "def pad_seq(seq, maxlen):\n",
    "    return [start_token] + list(seq) + [end_token] + [pad_token for _ in range(maxlen-len(seq))]\n",
    "\n",
    "def tokenize_seq(seq):\n",
    "    return [vocab[i] if i in vocab else vocab[unk_token] for i in seq]\n",
    "\n",
    "def untokenize_seq(seq):\n",
    "    return [inv_vocab[i] for i in seq]"
   ]
  },
  {
   "cell_type": "markdown",
   "metadata": {},
   "source": [
    "#### 2.3 Split into train/validation/test sets"
   ]
  },
  {
   "cell_type": "code",
   "execution_count": 11,
   "metadata": {},
   "outputs": [
    {
     "name": "stdout",
     "output_type": "stream",
     "text": [
      "Training on   : 6000 samples\n",
      "Validating on : 2000 samples\n",
      "Testing on    : 2000 samples\n"
     ]
    }
   ],
   "source": [
    "# 60/20/20\n",
    "\n",
    "train_txt, val_txt, test_txt = np.split(data, [int(.6*len(data)), int(.8*len(data))])\n",
    "\n",
    "print(f'Training on   : {train_txt.shape[0]} samples')\n",
    "print(f'Validating on : {val_txt.shape[0]} samples')\n",
    "print(f'Testing on    : {test_txt.shape[0]} samples')"
   ]
  },
  {
   "cell_type": "code",
   "execution_count": 12,
   "metadata": {},
   "outputs": [],
   "source": [
    "def prepare_batch(batch_txt):\n",
    "    \"\"\" pad -> tokenize -> convert BATCH to tensor\"\"\"\n",
    "    batch_maxlen = max(list(map(len, batch_txt)))\n",
    "    \n",
    "    padded_batch = [pad_seq(x, batch_maxlen) for x in batch_txt]\n",
    "    tokenized_batch = [tokenize_seq(x) for x in padded_batch]\n",
    "    \n",
    "    return torch.tensor(tokenized_batch)"
   ]
  },
  {
   "cell_type": "markdown",
   "metadata": {},
   "source": [
    "### 3. Create model"
   ]
  },
  {
   "cell_type": "markdown",
   "metadata": {},
   "source": [
    "We would define 2 models\n",
    "1. Reccurent text autoencoder\n",
    "2. Autoencder based on transformer model"
   ]
  },
  {
   "cell_type": "code",
   "execution_count": 13,
   "metadata": {},
   "outputs": [],
   "source": [
    "class PositionalEncoder(nn.Module):\n",
    "\n",
    "    def __init__(self, d_model, dropout=0.1, max_len=5000):\n",
    "        super(PositionalEncoder, self).__init__()\n",
    "        self.dropout = nn.Dropout(p=dropout)\n",
    "\n",
    "        pe = torch.zeros(max_len, d_model)\n",
    "        position = torch.arange(0, max_len, dtype=torch.float).unsqueeze(1)\n",
    "        div_term = torch.exp(torch.arange(0, d_model, 2).float() * (-math.log(10000.0) / d_model))\n",
    "        pe[:, 0::2] = torch.sin(position * div_term)\n",
    "        pe[:, 1::2] = torch.cos(position * div_term)\n",
    "        pe = pe.unsqueeze(0).transpose(0, 1)\n",
    "        self.register_buffer('pe', pe)\n",
    "\n",
    "    def forward(self, x):\n",
    "        x = x + self.pe[:x.size(0), :]\n",
    "        return self.dropout(x)"
   ]
  },
  {
   "cell_type": "code",
   "execution_count": 14,
   "metadata": {},
   "outputs": [],
   "source": [
    "class TransofrmerAutoencoder(nn.Module):\n",
    "    def __init__(self, vocab_size, embed_dim, n_layers, dropout, pad_idx, n_head, d_ff):\n",
    "        \n",
    "        super(TransofrmerAutoencoder, self).__init__()\n",
    "        \n",
    "        self.emb_enc = nn.Embedding(vocab_size, embed_dim, padding_idx=pad_idx)\n",
    "        self.emb_dec = nn.Embedding(vocab_size, embed_dim, padding_idx=pad_idx)\n",
    "\n",
    "        self.pos_enc = PositionalEncoder(d_model=embed_dim, dropout=dropout)\n",
    "        \n",
    "        self.transformer = nn.Transformer(d_model=embed_dim,\n",
    "                                          nhead=n_head,\n",
    "                                          num_encoder_layers=n_layers,\n",
    "                                          num_decoder_layers=n_layers,\n",
    "                                          dim_feedforward=d_ff)\n",
    "        \n",
    "        self.logit = nn.Linear(embed_dim, vocab_size)\n",
    "        \n",
    "        \n",
    "    def forward(self, X):\n",
    "        emb_enc = self.emb_enc(X)\n",
    "        emb_dec = self.emb_dec(X)\n",
    "        \n",
    "        pos_enc = self.pos_enc(emb_enc)\n",
    "        pos_dec = self.pos_enc(emb_dec)\n",
    "        \n",
    "        trans_outpt = self.transformer(pos_enc, pos_dec)\n",
    "        \n",
    "        return self.logit(trans_outpt)"
   ]
  },
  {
   "cell_type": "code",
   "execution_count": 15,
   "metadata": {},
   "outputs": [],
   "source": [
    "class RecurrentAutoencoder(nn.Module):\n",
    "    def __init__(self, vocab_size, embed_dim, gru_units, n_layers, dropout, pad_idx):\n",
    "        \n",
    "        super(RecurrentAutoencoder, self).__init__()\n",
    "        \n",
    "        self.emb_enc = nn.Embedding(vocab_size, embed_dim, padding_idx=pad_idx)\n",
    "        self.gru_enc = nn.GRU(input_size=embed_dim, hidden_size=gru_units, num_layers=n_layers, dropout=dropout, batch_first=True)\n",
    "        \n",
    "        self.emb_dec = nn.Embedding(vocab_size, embed_dim, padding_idx=pad_idx)\n",
    "        self.gru_dec = nn.GRU(input_size=embed_dim, hidden_size=gru_units, num_layers=n_layers, dropout=dropout, batch_first=True)\n",
    "        \n",
    "        self.logit = nn.Linear(embed_dim, vocab_size)\n",
    "        \n",
    "        \n",
    "    def forward(self, X, h0=None):\n",
    "        enc_inpt = self.emb_enc(X)\n",
    "        dec_inpt = self.emb_dec(X)\n",
    "        \n",
    "        _, hid_enc = self.gru_enc(enc_inpt, h0)\n",
    "        dec_outpt, _ = self.gru_dec(dec_inpt, hid_enc)\n",
    "        \n",
    "        return self.logit(dec_outpt)"
   ]
  },
  {
   "cell_type": "code",
   "execution_count": 16,
   "metadata": {},
   "outputs": [],
   "source": [
    "model = TransofrmerAutoencoder(vocab_size=len(vocab.keys()), embed_dim=32, n_layers=1, dropout=.2, pad_idx=vocab[pad_token], n_head=4, d_ff=128)\n",
    "#model = RecurrentAutoencoder(vocab_size=len(vocab.keys()), embed_dim=32, gru_units=32, n_layers=6, pad_idx=vocab[pad_token], dropout=.25)\n",
    "\n",
    "for p in model.parameters():\n",
    "    if p.dim() > 1:\n",
    "        nn.init.xavier_uniform_(p)"
   ]
  },
  {
   "cell_type": "code",
   "execution_count": 17,
   "metadata": {},
   "outputs": [],
   "source": [
    "criterion = nn.CrossEntropyLoss(ignore_index=vocab[pad_token])\n",
    "#optimizer = torch.optim.SGD(model.parameters(), lr=0.01, momentum=0.9, nesterov=True)\n",
    "optimizer = torch.optim.Adam(model.parameters(), lr=0.001, amsgrad=True)\n",
    "scheduler = torch.optim.lr_scheduler.StepLR(optimizer, 1.0, gamma=0.95)"
   ]
  },
  {
   "cell_type": "markdown",
   "metadata": {},
   "source": [
    "### 4. Train"
   ]
  },
  {
   "cell_type": "code",
   "execution_count": 18,
   "metadata": {},
   "outputs": [],
   "source": [
    "def train_on_batch(X_batch):\n",
    "    # Reset grad\n",
    "    optimizer.zero_grad()\n",
    "\n",
    "    # Forward pass\n",
    "    X_pred = model(X_batch)\n",
    "\n",
    "    # Compute loss & backward pass\n",
    "    loss = criterion(X_pred.transpose(0,1).transpose(1,2), X_batch.transpose(0,1))\n",
    "    loss.backward()\n",
    "\n",
    "    # Prevent gradient explosion.\n",
    "    torch.nn.utils.clip_grad_norm_(model.parameters(), 1)\n",
    "\n",
    "    # Step optimizer\n",
    "    optimizer.step()\n",
    "\n",
    "    # Return batch loss\n",
    "    return loss.detach().item()   "
   ]
  },
  {
   "cell_type": "code",
   "execution_count": 19,
   "metadata": {},
   "outputs": [],
   "source": [
    "batch_size = 64\n",
    "n_epochs = 10"
   ]
  },
  {
   "cell_type": "code",
   "execution_count": 20,
   "metadata": {},
   "outputs": [
    {
     "data": {
      "image/png": "[encoded data removed]",
      "text/plain": [
       "<Figure size 432x288 with 1 Axes>"
      ]
     },
     "metadata": {
      "needs_background": "light"
     },
     "output_type": "display_data"
    },
    {
     "name": "stdout",
     "output_type": "stream",
     "text": [
      "Epoch 9 loss - 0.023959 lr - 0.000599 time spent - 3.073 seconds\n",
      "Trainig complete\n"
     ]
    }
   ],
   "source": [
    "import time\n",
    "from tqdm.notebook import tqdm\n",
    "from IPython.display import clear_output\n",
    "\n",
    "loss_history = []\n",
    "print(f'Start trainig on {n_epochs} epochs with batch size {batch_size}')\n",
    "\n",
    "# Shuffle training data\n",
    "X_train = train_txt\n",
    "np.random.shuffle(X_train) \n",
    "\n",
    "for epoch in range(n_epochs):  \n",
    "    model.zero_grad()\n",
    "    epoch_start = time.time()\n",
    "    epoch_loss = []\n",
    "    \n",
    "    for i, start_index in enumerate(tqdm(range(0, len(X_train), batch_size))):\n",
    "        batch_data = X_train[start_index:start_index+batch_size]\n",
    "        X_batch = prepare_batch(batch_data)\n",
    "        step_loss = train_on_batch(X_batch)\n",
    "        epoch_loss.append(step_loss)\n",
    "        \n",
    "    scheduler.step()\n",
    "    loss_history.extend(epoch_loss)\n",
    "    \n",
    "    # Visualize training process\n",
    "    clear_output(True)\n",
    "    plt.plot(loss_history, label='loss')\n",
    "    plt.xlabel('Step')\n",
    "    plt.ylabel(\"Loss\")\n",
    "    plt.legend()\n",
    "    plt.show()\n",
    "    \n",
    "    print(f'Epoch {epoch} loss - {np.mean(epoch_loss):.6f} lr - {scheduler.get_last_lr()[0]:.6f} time spent - {time.time()-epoch_start:.3f} seconds')\n",
    "\n",
    "print('Trainig complete')"
   ]
  },
  {
   "cell_type": "markdown",
   "metadata": {},
   "source": [
    "## 5. Validate & pick a deciaion threshold"
   ]
  },
  {
   "cell_type": "code",
   "execution_count": 21,
   "metadata": {},
   "outputs": [
    {
     "name": "stdout",
     "output_type": "stream",
     "text": [
      "Validating on 2000 samples with batch size 1\n"
     ]
    },
    {
     "data": {
      "application/vnd.jupyter.widget-view+json": {
       "model_id": "a22e9682cd6543f88f165d6e2c64f958",
       "version_major": 2,
       "version_minor": 0
      },
      "text/plain": [
       "HBox(children=(FloatProgress(value=0.0, max=2000.0), HTML(value='')))"
      ]
     },
     "metadata": {},
     "output_type": "display_data"
    },
    {
     "name": "stdout",
     "output_type": "stream",
     "text": [
      "\n",
      "Validating complete. Val loss: 0.5144763705581427\n"
     ]
    }
   ],
   "source": [
    "model.eval()\n",
    "val_batch_size = 1\n",
    "\n",
    "X_val = val_txt.copy()\n",
    "np.random.shuffle(X_val)\n",
    "with torch.no_grad():\n",
    "    val_loss = []\n",
    "    print(f'Validating on {len(X_val)} samples with batch size {val_batch_size}')\n",
    "    for i in tqdm(range(0, len(X_val), val_batch_size)):\n",
    "        batch_data = X_val[i:i+val_batch_size]\n",
    "        X_batch = prepare_batch(batch_data)\n",
    "        X_pred = model(X_batch)\n",
    "        loss = criterion(X_pred.transpose(0,1).transpose(1,2), X_batch.transpose(0,1))\n",
    "        val_loss.append(loss.item())\n",
    "    \n",
    "    print(f'Validating complete. Val loss: {np.mean(val_loss)}')"
   ]
  },
  {
   "cell_type": "code",
   "execution_count": 22,
   "metadata": {},
   "outputs": [
    {
     "data": {
      "image/png": "[encoded data removed]",
      "text/plain": [
       "<Figure size 432x288 with 1 Axes>"
      ]
     },
     "metadata": {
      "needs_background": "light"
     },
     "output_type": "display_data"
    }
   ],
   "source": [
    "P_RATE = .99\n",
    "p_value = np.quantile(val_loss, P_RATE)\n",
    "\n",
    "plt.hist(val_loss)\n",
    "plt.axvline(p_value, c='red', label=f'{P_RATE} percentile')\n",
    "\n",
    "plt.title('Validation loss histogram')\n",
    "plt.xlabel('loss value')\n",
    "plt.ylabel('n samples')\n",
    "plt.legend()\n",
    "plt.show()"
   ]
  },
  {
   "cell_type": "code",
   "execution_count": 23,
   "metadata": {},
   "outputs": [
    {
     "data": {
      "text/html": [
       "<h2 style=\"color:red;\"> Threshold: 0.9115</h1>"
      ],
      "text/plain": [
       "<IPython.core.display.HTML object>"
      ]
     },
     "execution_count": 23,
     "metadata": {},
     "output_type": "execute_result"
    }
   ],
   "source": [
    "from IPython.display import HTML\n",
    "\n",
    "threshod = p_value\n",
    "\n",
    "HTML(f'<h2 style=\"color:red;\"> Threshold: {np.round(threshod, 4)}</h1>')"
   ]
  },
  {
   "cell_type": "markdown",
   "metadata": {},
   "source": [
    "## 6.Test"
   ]
  },
  {
   "cell_type": "code",
   "execution_count": 24,
   "metadata": {},
   "outputs": [
    {
     "name": "stdout",
     "output_type": "stream",
     "text": [
      "Testing on 2000 samples\n"
     ]
    },
    {
     "data": {
      "application/vnd.jupyter.widget-view+json": {
       "model_id": "1203709511284e069c87c8ffa4857879",
       "version_major": 2,
       "version_minor": 0
      },
      "text/plain": [
       "HBox(children=(FloatProgress(value=0.0, max=2000.0), HTML(value='')))"
      ]
     },
     "metadata": {},
     "output_type": "display_data"
    },
    {
     "name": "stdout",
     "output_type": "stream",
     "text": [
      "\n",
      "Testing complete. Test loss: 0.514\n"
     ]
    }
   ],
   "source": [
    "FP = []\n",
    "\n",
    "with torch.no_grad():\n",
    "    test_loss = []\n",
    "    print(f'Testing on {len(test_txt)} samples')\n",
    "    for i, x in enumerate(tqdm((test_txt))):\n",
    "        actual = prepare_batch([x])\n",
    "        predicted = model(actual)\n",
    "        \n",
    "        loss = criterion(predicted.transpose(0,1).transpose(1,2), actual.transpose(0,1)).item()\n",
    "\n",
    "        if loss > threshod:\n",
    "            FP.append(i)\n",
    "        \n",
    "    print(f'Testing complete. Test loss: {np.round(np.mean(val_loss), 3)}')"
   ]
  },
  {
   "cell_type": "code",
   "execution_count": 25,
   "metadata": {},
   "outputs": [
    {
     "name": "stdout",
     "output_type": "stream",
     "text": [
      "Number of False positives: 21 out of 2000 or 1.05%\n"
     ]
    }
   ],
   "source": [
    "print(f\"Number of False positives: {len(FP)} out of {len(test_txt)} or {round(len(FP)/len(test_txt)*100, 2)}%\")"
   ]
  },
  {
   "cell_type": "code",
   "execution_count": 26,
   "metadata": {},
   "outputs": [
    {
     "name": "stdout",
     "output_type": "stream",
     "text": [
      "GET/api/?token=6fb583008a6f4d0ab06d80a75573c330 \n",
      "\n",
      "GET/api/?token=a2379700c3924c25a6ba3225f9063ff5 \n",
      "\n",
      "GET/api/?token=f8306507f13440df848d3028ca6153d2 \n",
      "\n",
      "GET/api/?token=510d1844480c4e679d077d306cd00edf \n",
      "\n",
      "GET/api/?token=04bcb011825140c39c600a33d4fa0976 \n",
      "\n",
      "GET/api/?token=0f73090a505c4ca585ecb422cb874eb0 \n",
      "\n",
      "GET/api/?token=e03d75ff0060428895d4f6d0fb80b5a2 \n",
      "\n",
      "GET/api/?token=c07ff0ff0b634af1b1ab8da53605c8d0 \n",
      "\n",
      "GET/api/?token=2f052226967f423f81bc50775f83e62f \n",
      "\n",
      "GET/api/?token=c0225c3a00eb4b7e853c66a712060fbd \n",
      "\n"
     ]
    }
   ],
   "source": [
    "if len(FP) > 10:\n",
    "    print_fp = 10\n",
    "else:\n",
    "    print_fp = len(FP)\n",
    "    \n",
    "for i in range(print_fp):\n",
    "    print(''.join(test_txt[FP[i]]), '\\n')"
   ]
  },
  {
   "cell_type": "markdown",
   "metadata": {},
   "source": [
    "## 7. Visualize"
   ]
  },
  {
   "cell_type": "code",
   "execution_count": 27,
   "metadata": {},
   "outputs": [],
   "source": [
    "from colorama import Fore\n",
    "\n",
    "def visual(inpt, outpt, threshold):\n",
    "    \"\"\"\n",
    "    Color the most 'badly' parts of request\n",
    "    Args:\n",
    "        inpt:      <torch.tensor>\n",
    "        outpt:     <torch.tensor>\n",
    "        threshold: <float> 0-1\n",
    "    Returns:\n",
    "        Colored input string\n",
    "    \"\"\"\n",
    "    coefs = np.array([[outpt[j, i, inpt[j, i]].item() for i in range(inpt.shape[1])] for j in range(inpt.shape[0])])\n",
    "    min_ = np.amin(coefs, axis=1)[np.newaxis].T\n",
    "    max_ = np.amax(coefs, axis=1)[np.newaxis].T\n",
    "    probs = (coefs - min_) / (max_ - min_)\n",
    "    \n",
    "    visual_text = []\n",
    "    for i in range(probs.shape[0]):\n",
    "        text = ''\n",
    "        for j in range(probs.shape[1]):\n",
    "            if inv_vocab[inpt[i, j].item()] == pad_token:\n",
    "                break\n",
    "            if probs[i, j] < threshold:\n",
    "                c = Fore.GREEN\n",
    "            else:\n",
    "                c = Fore.BLACK\n",
    "            text += ''.join(c + inv_vocab[inpt[i, j].item()])\n",
    "        visual_text.append(text)\n",
    "        \n",
    "    return visual_text"
   ]
  },
  {
   "cell_type": "code",
   "execution_count": 28,
   "metadata": {},
   "outputs": [],
   "source": [
    "def process_str_visual(s, temp=0.1):\n",
    "    \"\"\"s - string\"\"\"\n",
    "    s_prep = pad_seq(s, len(s))\n",
    "    s_tok = tokenize_seq(s_prep)\n",
    "    inpt_tensor = torch.tensor(s_tok).view(1, -1)\n",
    "    \n",
    "    pred_tensor = model(inpt_tensor)\n",
    "    loss = criterion(pred_tensor.transpose(0,1).transpose(1,2), inpt_tensor.transpose(0,1)).item()\n",
    "    outpt_tensor = F.softmax(pred_tensor, dim=2)\n",
    "    \n",
    "    colored_str = visual(inpt_tensor, outpt_tensor, temp)[0]\n",
    "\n",
    "    res_str = f\"{colored_str}\\n\"\n",
    "\n",
    "    ratio = loss/threshod\n",
    "    if ratio < 1:\n",
    "        res_str += (Fore.GREEN + f\"ratio: {ratio:.5f}\")\n",
    "    else:\n",
    "        res_str += (Fore.RED + f\"ratio: {ratio:.5f}\")\n",
    "        \n",
    "    res_str += f\"\\nloss {loss}\"\n",
    "    \n",
    "    return f\"{res_str}\\n\\n\""
   ]
  },
  {
   "cell_type": "code",
   "execution_count": 29,
   "metadata": {},
   "outputs": [
    {
     "data": {
      "application/vnd.jupyter.widget-view+json": {
       "model_id": "b39b5d255ad04b059f6d287881c11980",
       "version_major": 2,
       "version_minor": 0
      },
      "text/plain": [
       "interactive(children=(FloatSlider(value=0.9, description='temperature', max=1.0, step=0.01), Dropdown(descript…"
      ]
     },
     "metadata": {},
     "output_type": "display_data"
    }
   ],
   "source": [
    "import random\n",
    "from ipywidgets import interactive,FloatSlider\n",
    "\n",
    "\n",
    "s_attacks = [\n",
    "    'GET/login.php',\n",
    "    'GET/website/api/?token=%27%3B+DROP+TABLE+customers',\n",
    "    'GET/suggestions/api/4_1/rs/iplocate/fio?ip=<script>alert()</script>'\n",
    "]\n",
    "\n",
    "s_broken = [\n",
    "    'GET/api/?token=HFLKHSLHFKLJFKJLH',\n",
    "    'GET/website/itmes/?id=-1',\n",
    "    'GET/website/itmes/?id=9999999999',\n",
    "    'POST/website/script.js/?time=22210777731'\n",
    "]\n",
    "\n",
    "s_good = random.sample(test_txt.tolist(),5)\n",
    "\n",
    "def foo(temperature, dataset):\n",
    "        print(''.join(process_str_visual(x, temperature) for x in dataset))\n",
    "\n",
    "interactive(foo, \n",
    "            temperature=FloatSlider(min=0, max=1, step=0.01, value=0.9),\n",
    "            dataset={\"attacks\":s_attacks, \"test\":s_good, \"broken\": s_broken}\n",
    "          )"
   ]
  },
  {
   "cell_type": "markdown",
   "metadata": {},
   "source": [
    "## 7. Time measuring"
   ]
  },
  {
   "cell_type": "code",
   "execution_count": 30,
   "metadata": {},
   "outputs": [],
   "source": [
    "def forward_pass(s, model, criterion):\n",
    "    '''Passes string <s> through <model> and returns computed loss value'''\n",
    "    s_prep = pad_seq(s, len(s))\n",
    "    s_tok = tokenize_seq(s_prep)\n",
    "    inpt_tensor = torch.tensor(s_tok).view(1, -1)\n",
    "\n",
    "    pred_tensor = model(inpt_tensor)\n",
    "    return criterion(pred_tensor.transpose(0,1).transpose(1,2), inpt_tensor.transpose(0,1)).item()"
   ]
  },
  {
   "cell_type": "code",
   "execution_count": 31,
   "metadata": {},
   "outputs": [
    {
     "name": "stdout",
     "output_type": "stream",
     "text": [
      "Sample text: POST/website/script.js/?time=1608140705,\n",
      "Sample len: 39\n",
      "\n"
     ]
    }
   ],
   "source": [
    "s = random.choice(test_txt)\n",
    "print(f'Sample text: {s},\\nSample len: {len(s)}\\n')"
   ]
  },
  {
   "cell_type": "markdown",
   "metadata": {},
   "source": [
    "### 7.1 Python"
   ]
  },
  {
   "cell_type": "markdown",
   "metadata": {},
   "source": [
    "__Disable autograd__"
   ]
  },
  {
   "cell_type": "code",
   "execution_count": 32,
   "metadata": {},
   "outputs": [
    {
     "name": "stdout",
     "output_type": "stream",
     "text": [
      "CPU times: user 14.8 ms, sys: 3.27 ms, total: 18.1 ms\n",
      "Wall time: 4.78 ms\n"
     ]
    }
   ],
   "source": [
    "with torch.no_grad():\n",
    "    %time _ = forward_pass(s, model, criterion)"
   ]
  },
  {
   "cell_type": "markdown",
   "metadata": {},
   "source": [
    "__Enable autograd__"
   ]
  },
  {
   "cell_type": "code",
   "execution_count": 33,
   "metadata": {},
   "outputs": [
    {
     "name": "stdout",
     "output_type": "stream",
     "text": [
      "CPU times: user 25.6 ms, sys: 0 ns, total: 25.6 ms\n",
      "Wall time: 5.6 ms\n"
     ]
    }
   ],
   "source": [
    "%time _ = forward_pass(s, model, criterion)"
   ]
  },
  {
   "cell_type": "markdown",
   "metadata": {},
   "source": [
    "### 7.2 Quantization"
   ]
  },
  {
   "cell_type": "code",
   "execution_count": 34,
   "metadata": {},
   "outputs": [],
   "source": [
    "quantized_model = torch.quantization.quantize_dynamic(model, {torch.nn.Bilinear}, dtype=torch.qint8 ) "
   ]
  },
  {
   "cell_type": "code",
   "execution_count": 35,
   "metadata": {},
   "outputs": [
    {
     "name": "stdout",
     "output_type": "stream",
     "text": [
      "CPU times: user 3.94 ms, sys: 168 µs, total: 4.11 ms\n",
      "Wall time: 3.41 ms\n"
     ]
    }
   ],
   "source": [
    "%time _ = forward_pass(s, quantized_model, criterion)"
   ]
  },
  {
   "cell_type": "code",
   "execution_count": null,
   "metadata": {},
   "outputs": [],
   "source": []
  }
 ],
 "metadata": {
  "kernelspec": {
   "display_name": "Python 3",
   "language": "python",
   "name": "python3"
  },
  "language_info": {
   "codemirror_mode": {
    "name": "ipython",
    "version": 3
   },
   "file_extension": ".py",
   "mimetype": "text/x-python",
   "name": "python",
   "nbconvert_exporter": "python",
   "pygments_lexer": "ipython3",
   "version": "3.8.5"
  }
 },
 "nbformat": 4,
 "nbformat_minor": 4
}
